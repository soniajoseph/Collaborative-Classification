{
 "cells": [
  {
   "cell_type": "code",
   "execution_count": 1,
   "metadata": {},
   "outputs": [],
   "source": [
    "import numpy as np\n",
    "import matplotlib.pyplot as plt\n",
    "from sklearn import preprocessing\n",
    "import scipy.io as io\n",
    "\n",
    "%matplotlib inline"
   ]
  },
  {
   "cell_type": "code",
   "execution_count": null,
   "metadata": {},
   "outputs": [],
   "source": [
    "# algorithm to run collaborative representation-based classification on dataset\n",
    "    \n",
    "def collab_rep(X_train, X_test, Y_train, Y_test):\n",
    "    \n",
    "    num_test_samples = X_test.shape[1]\n",
    "    predicted_label = np.zeros((num_test_samples,))\n",
    "    num_classifications = 15\n",
    "    \n",
    "    # OLS\n",
    "    X = np.matrix(X_train)\n",
    "    proj = np.linalg.pinv(np.dot(X.T,X)) * (X.T) \n",
    "    \n",
    "    # for each new vector\n",
    "    for i in range(0,num_test_samples):\n",
    "        test_ex = np.matrix(X_test[:,i])\n",
    "        p = proj * test_ex.T\n",
    "        print(\"proj shape\", proj.shape)\n",
    "        print(\"test_ex.T shape\", test_ex.T.shape)\n",
    "        print(\"p shape\", p.shape)\n",
    "        \n",
    "        # compare the new vector to linear combinations of existing vectors by face\n",
    "        dist = np.zeros((num_classifications,))\n",
    "        num_in_training = int(X_train.shape[1] / num_classifications)\n",
    "        for j in range(0,num_classifications):\n",
    "            print(\"num_in_training\", num_in_training)\n",
    "            X_subset = X_train[:,j*num_in_training:(j+1)*num_in_training]\n",
    "            w_subset = p[j*num_in_training:(j+1)*num_in_training]\n",
    "            reconstructed = np.dot(X_subset, w_subset)\n",
    "            dist[j] = np.linalg.norm(reconstructed - test_ex)\n",
    "        \n",
    "        # classify new vector according to minimum distance between the vector and reconstructed \n",
    "        predicted_label[i] = np.argmin(dist) + 1\n",
    "        print(\"predicted label\", np.argmin(dist) + 1)\n",
    "        \n",
    "    predicted_label = predicted_label.reshape(-1,1)\n",
    "        \n",
    "    # calculate the accuracy\n",
    "    test_err = np.count_nonzero(predicted_label - Y_test)\n",
    "    test_acc = 1-(test_err/100.0)\n",
    "    \n",
    "    return test_acc"
   ]
  },
  {
   "cell_type": "code",
   "execution_count": null,
   "metadata": {},
   "outputs": [],
   "source": [
    "# load YALE database from http://www.cad.zju.edu.cn/home/dengcai/Data/FaceData.html\n",
    "YALE = io.loadmat('Yale_64x64.mat')\n",
    "fea = YALE['fea'].T\n",
    "gnd = YALE['gnd']\n",
    "\n",
    "# scale pixels to be [0,1]\n",
    "maxValue = np.amax(fea)\n",
    "fea = fea / maxValue\n",
    "\n",
    "print(\"X shape: \", fea.shape) # faces in columns\n",
    "print(\"Y shape: \", gnd.shape)"
   ]
  },
  {
   "cell_type": "code",
   "execution_count": null,
   "metadata": {},
   "outputs": [],
   "source": [
    "accuracy_list = []\n",
    "for i in range(1,51,1):\n",
    "    subset = io.loadmat('8Train/' + str(i) + '.mat') \n",
    "    trainIdx = subset['trainIdx'].flatten()\n",
    "    testIdx = subset['testIdx'].flatten()\n",
    "    \n",
    "    # generate training and test data\n",
    "    fea_Train = fea[:,trainIdx-1]; \n",
    "    fea_Test = fea[:,testIdx-1]; \n",
    "    \n",
    "    gnd_Train = gnd[trainIdx-1,:]; \n",
    "    gnd_Test = gnd[testIdx-1,:]; \n",
    "    \n",
    "    # get accuracy via collaborative representation\n",
    "    accuracy = collab_rep(fea_Train, fea_Test, gnd_Train, gnd_Test)\n",
    "    accuracy_list.append(accuracy)\n",
    "    print(accuracy)\n",
    "    \n",
    "# print(accuracy_list)\n",
    "print(\"accuracy: \", np.mean(accuracy_list))\n"
   ]
  },
  {
   "cell_type": "code",
   "execution_count": null,
   "metadata": {},
   "outputs": [],
   "source": []
  }
 ],
 "metadata": {
  "kernelspec": {
   "display_name": "Python 3",
   "language": "python",
   "name": "python3"
  },
  "language_info": {
   "codemirror_mode": {
    "name": "ipython",
    "version": 3
   },
   "file_extension": ".py",
   "mimetype": "text/x-python",
   "name": "python",
   "nbconvert_exporter": "python",
   "pygments_lexer": "ipython3",
   "version": "3.6.6"
  }
 },
 "nbformat": 4,
 "nbformat_minor": 2
}
