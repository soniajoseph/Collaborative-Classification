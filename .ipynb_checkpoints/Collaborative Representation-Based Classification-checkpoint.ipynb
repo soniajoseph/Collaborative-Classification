{
 "cells": [
  {
   "cell_type": "code",
   "execution_count": 1,
   "metadata": {},
   "outputs": [],
   "source": [
    "import numpy as np\n",
    "import matplotlib.pyplot as plt\n",
    "from sklearn import preprocessing\n",
    "import scipy.io as io\n",
    "\n",
    "%matplotlib inline"
   ]
  },
  {
   "cell_type": "code",
   "execution_count": 2,
   "metadata": {},
   "outputs": [],
   "source": [
    "# algorithm to run collaborative representation-based classification on dataset\n",
    "    \n",
    "def collab_rep(X_train, X_test, Y_train, Y_test):\n",
    "    \n",
    "    num_test_samples = X_test.shape[0]\n",
    "    predicted_label = np.zeros((num_test_samples,))\n",
    "    num_classifications = 15\n",
    "    \n",
    "    # OLS\n",
    "    X = np.matrix(X_train)\n",
    "    proj = np.linalg.pinv(np.dot(X.T,X)) * (X.T) \n",
    "    \n",
    "    # for each new vector\n",
    "    for i in range(0,num_test_samples):\n",
    "        test_ex = np.matrix(X_test[i,:])\n",
    "        p = proj.T * test_ex.T\n",
    "        \n",
    "        # compare the new vector to linear combinations of existing vectors by face\n",
    "        dist = np.zeros((num_classifications,))\n",
    "        for j in range(0,num_classifications):\n",
    "            num_in_training = int(X_train.shape[0] / num_classifications)\n",
    "            X_subset = X_train[j*num_in_training:(j+1)*num_in_training,:]\n",
    "            w_subset = p[j*num_in_training:(j+1)*num_in_training]\n",
    "            reconstructed = np.dot(w_subset.T, X_subset)\n",
    "            dist[j] = np.linalg.norm(reconstructed - test_ex)\n",
    "        \n",
    "        # classify new vector according to minimum distance between the vector and reconstructed \n",
    "        predicted_label[i] = np.argmin(dist) + 1\n",
    "        \n",
    "    predicted_label = predicted_label.reshape(-1,1)\n",
    "        \n",
    "    # calculate the accuracy\n",
    "    test_err = np.count_nonzero(predicted_label - Y_test)\n",
    "    test_acc = 1-(test_err/100.0)\n",
    "    \n",
    "    return test_acc"
   ]
  },
  {
   "cell_type": "code",
   "execution_count": 12,
   "metadata": {},
   "outputs": [
    {
     "name": "stdout",
     "output_type": "stream",
     "text": [
      "[0.98, 0.97, 1.0, 0.98, 0.9299999999999999, 0.94, 0.99, 0.94, 0.94, 0.98, 0.95, 0.9299999999999999, 0.97, 0.97, 0.98, 0.97, 0.96, 0.95, 0.97, 0.98, 0.95, 0.96, 0.98, 0.98, 0.98, 0.96, 0.98, 0.98, 0.99, 0.95, 0.96, 0.98, 0.95, 0.94, 0.99, 0.95, 0.94, 0.99, 0.96, 0.96, 0.99, 0.97, 0.95, 0.99, 0.95, 0.97, 0.97, 0.97, 0.98, 0.96]\n",
      "accuracy:  0.9662\n"
     ]
    }
   ],
   "source": [
    "# load YALE database from http://www.cad.zju.edu.cn/home/dengcai/Data/FaceData.html\n",
    "YALE = io.loadmat('Yale_64x64.mat')\n",
    "fea = YALE['fea']\n",
    "gnd = YALE['gnd']\n",
    "\n",
    "# scale pixels to be [0,1]\n",
    "maxValue = np.amax(fea)\n",
    "fea = fea / maxValue\n",
    "\n",
    "accuracy_list = []\n",
    "for i in range(1,51,1):\n",
    "    subset = io.loadmat('8Train/' + str(i) + '.mat') \n",
    "    trainIdx = subset['trainIdx'].flatten()\n",
    "    testIdx = subset['testIdx'].flatten()\n",
    "    \n",
    "    # generate training and test data\n",
    "    fea_Train = fea[trainIdx-1,:]; \n",
    "    fea_Test = fea[testIdx-1,:]; \n",
    "    \n",
    "    gnd_Train = gnd[trainIdx-1,:]; \n",
    "    gnd_Test = gnd[testIdx-1]; \n",
    "    \n",
    "    # get accuracy via collaborative representation\n",
    "    accuracy = collab_rep(fea_Train, fea_Test, gnd_Train, gnd_Test)\n",
    "    accuracy_list.append(accuracy)\n",
    "    \n",
    "# print(accuracy_list)\n",
    "print(\"accuracy: \", np.mean(accuracy_list))\n"
   ]
  }
 ],
 "metadata": {
  "kernelspec": {
   "display_name": "Python 3",
   "language": "python",
   "name": "python3"
  },
  "language_info": {
   "codemirror_mode": {
    "name": "ipython",
    "version": 3
   },
   "file_extension": ".py",
   "mimetype": "text/x-python",
   "name": "python",
   "nbconvert_exporter": "python",
   "pygments_lexer": "ipython3",
   "version": "3.6.6"
  }
 },
 "nbformat": 4,
 "nbformat_minor": 2
}
