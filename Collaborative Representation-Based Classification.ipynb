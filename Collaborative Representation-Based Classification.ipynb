{
 "cells": [
  {
   "cell_type": "code",
   "execution_count": 6,
   "metadata": {},
   "outputs": [],
   "source": [
    "import numpy as np\n",
    "import matplotlib.pyplot as plt\n",
    "from sklearn import preprocessing\n",
    "import scipy.io as io\n",
    "\n",
    "%matplotlib inline"
   ]
  },
  {
   "cell_type": "code",
   "execution_count": 9,
   "metadata": {},
   "outputs": [],
   "source": [
    "# algorithm to run collaborative representation-based classification on dataset\n",
    "\n",
    "def collab_rep(X_train, X_test, Y_train, Y_test, lambda_weight=0):\n",
    "    \n",
    "    num_test_samples = len(Y_test)\n",
    "    num_classifications = 15\n",
    "    \n",
    "    # least squares\n",
    "    X = np.matrix(X_train)\n",
    "    w = np.linalg.pinv(np.dot(X.T,X)) * (X.T) \n",
    "    \n",
    "    predicted_label = np.zeros((num_test_samples,))\n",
    "    \n",
    "    # for each new vector\n",
    "    for i in range(0,num_test_samples):\n",
    "        test_ex = np.matrix(X_test[:,i]).T\n",
    "        p = w * test_ex\n",
    "        \n",
    "        # compare the new vector to linear combinations of existing vectors by face\n",
    "        dist = np.zeros((num_classifications,))\n",
    "        for j in range(0,num_classifications):\n",
    "            m = X[:,j*num_classifications:(j+1)*num_classifications]\n",
    "            w_j = p[j*num_classifications:(j+1)*num_classifications]\n",
    "            reconstructed = np.dot(m, w_j)\n",
    "            dist[j] = np.linalg.norm(reconstructed - test_ex)\n",
    "        \n",
    "        # classify new vector according to minimum distance between the vector and reconstructed \n",
    "        predicted_label[i] = np.argmin(dist)\n",
    "        \n",
    "    # calculate the accuracy\n",
    "    test_err = np.count_nonzero(predicted_label - Y_test)\n",
    "    test_acc = 1-(test_err/100.0)\n",
    "    \n",
    "    return test_acc"
   ]
  },
  {
   "cell_type": "code",
   "execution_count": 12,
   "metadata": {},
   "outputs": [
    {
     "name": "stdout",
     "output_type": "stream",
     "text": [
      "accuracy:  0.5512\n"
     ]
    }
   ],
   "source": [
    "# run the algorithm with k-fold cv \n",
    "\n",
    "# load YALE database from http://www.cad.zju.edu.cn/home/dengcai/Data/FaceData.html\n",
    "# load data and transpose so that columns are faces\n",
    "YALE = io.loadmat('Yale_64x64.mat')\n",
    "fea = YALE['fea'].T\n",
    "gnd = YALE['gnd'].T\n",
    "\n",
    "# scale pixels to be [0,1]\n",
    "maxValue = np.amax(fea)\n",
    "fea = fea / maxValue\n",
    "\n",
    "accuracy_list = []\n",
    "for i in range(1,51,1):\n",
    "    subset = io.loadmat('8Train/' + str(i) + '.mat') \n",
    "    trainIdx = subset['trainIdx'].flatten()\n",
    "    testIdx = subset['testIdx'].flatten()\n",
    "    \n",
    "    # generate training and test data\n",
    "    fea_Train = fea[:,trainIdx-1]; \n",
    "    fea_Test = fea[:,testIdx-1]; \n",
    "\n",
    "    gnd_Train = gnd[:,trainIdx-1]; \n",
    "    gnd_Test = gnd[:,testIdx-1]; \n",
    "    \n",
    "    # get accuracy via collaborative representation\n",
    "    accuracy = collab_rep(fea_Train, fea_Test, gnd_Train, gnd_Test, lambda_weight = 0)\n",
    "    accuracy_list.append(accuracy)\n",
    "\n",
    "# print(accuracy_list)\n",
    "print(\"accuracy: \", np.mean(accuracy_list))"
   ]
  }
 ],
 "metadata": {
  "kernelspec": {
   "display_name": "Python 3",
   "language": "python",
   "name": "python3"
  },
  "language_info": {
   "codemirror_mode": {
    "name": "ipython",
    "version": 3
   },
   "file_extension": ".py",
   "mimetype": "text/x-python",
   "name": "python",
   "nbconvert_exporter": "python",
   "pygments_lexer": "ipython3",
   "version": "3.6.6"
  }
 },
 "nbformat": 4,
 "nbformat_minor": 2
}
